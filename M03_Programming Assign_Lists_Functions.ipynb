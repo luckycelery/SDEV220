{
 "cells": [
  {
   "cell_type": "code",
   "execution_count": 10,
   "id": "4999d9d4-c915-44e6-b7eb-6caff5e391ca",
   "metadata": {},
   "outputs": [],
   "source": [
    "#7.4\n",
    "things = [\"mozzarella\", \"cinderella\", \"salmonella\"] #list called 'things' is created"
   ]
  },
  {
   "cell_type": "code",
   "execution_count": 11,
   "id": "a667e08e-bfd2-4933-801e-aae8b88a9c99",
   "metadata": {},
   "outputs": [
    {
     "name": "stdout",
     "output_type": "stream",
     "text": [
      "['mozzarella', 'Cinderella', 'salmonella']\n"
     ]
    }
   ],
   "source": [
    "#7.5\n",
    "things[1] = things[1].capitalize()\n",
    "print(things) #the element changed to a capitalized name and was printed capitalized with the list"
   ]
  },
  {
   "cell_type": "code",
   "execution_count": 12,
   "id": "c6c20749-725e-4bb1-8457-c406f544d075",
   "metadata": {},
   "outputs": [
    {
     "name": "stdout",
     "output_type": "stream",
     "text": [
      "['MOZZARELLA', 'Cinderella', 'salmonella']\n"
     ]
    }
   ],
   "source": [
    "#7.6\n",
    "things[0] =  things[0].upper() #mozzarella is made all uppercase\n",
    "print(things) "
   ]
  },
  {
   "cell_type": "code",
   "execution_count": 13,
   "id": "1a00e569-6a2d-49ba-a540-21fb189c12c5",
   "metadata": {},
   "outputs": [
    {
     "name": "stdout",
     "output_type": "stream",
     "text": [
      "['MOZZARELLA', 'Cinderella']\n"
     ]
    }
   ],
   "source": [
    "#7.7\n",
    "del things[2] #salmonella is deleted from the list\n",
    "print(things)"
   ]
  },
  {
   "cell_type": "code",
   "execution_count": 16,
   "id": "f9aca784-5d10-4532-a835-af15d26edc0b",
   "metadata": {},
   "outputs": [
    {
     "name": "stdout",
     "output_type": "stream",
     "text": [
      "['Harry', 'Ron', 'Hermione']\n"
     ]
    }
   ],
   "source": [
    "#9.1\n",
    "def good():\n",
    "    return ['Harry', 'Ron', 'Hermione']\n",
    "\n",
    "print(good()) #prints the returned list "
   ]
  },
  {
   "cell_type": "code",
   "execution_count": 15,
   "id": "1722f1bb-38d7-43a8-8381-f9d133b7b66a",
   "metadata": {},
   "outputs": [
    {
     "name": "stdout",
     "output_type": "stream",
     "text": [
      "5\n"
     ]
    }
   ],
   "source": [
    "#9.2\n",
    "def get_odds():\n",
    "    for num in range(10):\n",
    "        if num %2 !=0: #makes sure value is not divisible by 2\n",
    "            yield num \n",
    "            \n",
    "count = 0 #intialize the count at 0\n",
    "for odd in get_odds(): #for loop to get third odd num\n",
    "    count += 1 #for each odd, the count is increased\n",
    "    if count == 3: #once the odd count reaches three, print\n",
    "        print (odd)\n",
    "        break"
   ]
  }
 ],
 "metadata": {
  "kernelspec": {
   "display_name": "Python [conda env:base] *",
   "language": "python",
   "name": "conda-base-py"
  },
  "language_info": {
   "codemirror_mode": {
    "name": "ipython",
    "version": 3
   },
   "file_extension": ".py",
   "mimetype": "text/x-python",
   "name": "python",
   "nbconvert_exporter": "python",
   "pygments_lexer": "ipython3",
   "version": "3.12.7"
  }
 },
 "nbformat": 4,
 "nbformat_minor": 5
}
