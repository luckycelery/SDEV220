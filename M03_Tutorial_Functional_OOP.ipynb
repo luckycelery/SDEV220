{
 "cells": [
  {
   "cell_type": "code",
   "execution_count": 1,
   "id": "b9435ded-f511-420a-8924-5ce5bd589a64",
   "metadata": {},
   "outputs": [
    {
     "name": "stdout",
     "output_type": "stream",
     "text": [
      "[0, 0, 1, 1, 2, 2]\n",
      "[0, 0, 0, 0, 0, 1, 1, 1, 1, 1, 2, 2]\n"
     ]
    }
   ],
   "source": [
    "\"\"\"Sort 0s, 1s, and 2s\"\"\"\n",
    "class Solution:\n",
    "    # Function to sort an array of 0s, 1s, and 2s\n",
    "    def sort012(self, arr):\n",
    "        \n",
    "        # constraints to check if valid array size\n",
    "        if not (1 <= len(arr) <= 10**6):\n",
    "            raise ValueError(\"Array size too large\")\n",
    "        #constraint to check if array elements valid \n",
    "        if any(num not in (0, 1, 2) for num in arr):\n",
    "           raise ValueError(\"Array value not valid\")\n",
    "\n",
    "        #count occurences of each number with count() method\n",
    "        count0 = arr.count(0)\n",
    "        count1 = arr.count(1)\n",
    "        count2 = arr.count(2)\n",
    "        \n",
    "        #create sorted array by concatenating the counted elements \n",
    "        sorted_arr = [0] * count0 + [1] * count1 + [2] * count2\n",
    "        \n",
    "        # Print sorted array directly here\n",
    "        print(sorted_arr)\n",
    "\n",
    "# define example arrays \n",
    "array1 = [0, 1, 2, 0, 1, 2]\n",
    "array2 = [0, 1, 1, 0, 1, 2, 1, 2, 0, 0, 0, 1]\n",
    "\n",
    "# Call the method — it will print the sorted array\n",
    "Solution().sort012(array1)\n",
    "Solution().sort012(array2)"
   ]
  },
  {
   "cell_type": "code",
   "execution_count": 2,
   "id": "c7ad89b3-901f-4a77-888b-d8f3e67297b3",
   "metadata": {},
   "outputs": [
    {
     "name": "stdout",
     "output_type": "stream",
     "text": [
      "3\n",
      "-1\n",
      "0\n"
     ]
    }
   ],
   "source": [
    "\"\"\"Binary Search\"\"\"\n",
    "class Solution:\n",
    "    #function search for position of k value in array\n",
    "    def binarysearch(self, arr, k):\n",
    "        #constraint to check array is valid size\n",
    "        if not (1 <= len(arr) <= 10**5):\n",
    "            raise ValueError(\"Array size too large\")\n",
    "        #constraint to check if array elements are valid\n",
    "        for num in arr:\n",
    "            if not (1 <= num <= 10**6):\n",
    "                raise ValueError(\"Element in array too large\")\n",
    "        #constraint to check if k value valid\n",
    "        if not(1 <= k <= 10**6):\n",
    "            raise ValueError(\"k value too large\")\n",
    "            \n",
    "        #try to find the index of the value k\n",
    "        try:\n",
    "            return arr.index(k)\n",
    "        #if value cannot be found return -1 \n",
    "        except ValueError:\n",
    "            return -1\n",
    "        \n",
    "#define array data\n",
    "arr1 = [1, 2, 3, 4]\n",
    "arr2 = [11, 22, 33, 44, 55]\n",
    "arr3 = [1, 1, 1, 1, 2] \n",
    "\n",
    "#call method - it will print the index in which k value occurs \n",
    "print(Solution().binarysearch(arr1, 4))\n",
    "print(Solution().binarysearch(arr2, 445))\n",
    "print(Solution().binarysearch(arr3, 1))"
   ]
  },
  {
   "cell_type": "code",
   "execution_count": null,
   "id": "62d92934-6210-4216-9bcd-64de0613a3b3",
   "metadata": {},
   "outputs": [],
   "source": []
  }
 ],
 "metadata": {
  "kernelspec": {
   "display_name": "Python [conda env:base] *",
   "language": "python",
   "name": "conda-base-py"
  },
  "language_info": {
   "codemirror_mode": {
    "name": "ipython",
    "version": 3
   },
   "file_extension": ".py",
   "mimetype": "text/x-python",
   "name": "python",
   "nbconvert_exporter": "python",
   "pygments_lexer": "ipython3",
   "version": "3.12.7"
  }
 },
 "nbformat": 4,
 "nbformat_minor": 5
}
