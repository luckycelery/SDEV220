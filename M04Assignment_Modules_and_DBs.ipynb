{
 "cells": [
  {
   "cell_type": "code",
   "execution_count": 1,
   "id": "a5f0c045-cb3a-49eb-af12-01185799e198",
   "metadata": {},
   "outputs": [
    {
     "name": "stdout",
     "output_type": "stream",
     "text": [
      "Open 9-5 daily\n"
     ]
    }
   ],
   "source": [
    "#11.1 \n",
    "with open(\"zoo.py\", \"w\") as f: #create the zoo.py file by writing to it\n",
    "    f.write(\"\"\"\n",
    "def hours():\n",
    "    print('Open 9-5 daily')\n",
    "\"\"\")\n",
    "\n",
    "import zoo\n",
    "zoo.hours()"
   ]
  },
  {
   "cell_type": "code",
   "execution_count": 2,
   "id": "4c304807-2e91-40e8-bc39-8244b6491dc0",
   "metadata": {},
   "outputs": [
    {
     "name": "stdout",
     "output_type": "stream",
     "text": [
      "Open 9-5 daily\n"
     ]
    }
   ],
   "source": [
    "#11.2\n",
    "import zoo as menagerie\n",
    "menagerie.hours()"
   ]
  },
  {
   "cell_type": "code",
   "execution_count": 3,
   "id": "e43d02a8-cbe5-472d-8c4d-eed76e799702",
   "metadata": {},
   "outputs": [
    {
     "name": "stdout",
     "output_type": "stream",
     "text": [
      "Perdido Street Station\n",
      "Small Gods\n",
      "The Spellman Files\n",
      "The Weirdstone of Brisingamen\n",
      "Thud!\n"
     ]
    }
   ],
   "source": [
    "#16.8\n",
    "import csv\n",
    "import sqlite3\n",
    "from sqlalchemy import create_engine, MetaData, Table, select\n",
    "\n",
    "# Step 1: Create books2.csv\n",
    "csv_content = \"\"\"title,author,year\n",
    "The Weirdstone of Brisingamen,Alan Garner,1960\n",
    "Perdido Street Station,China Miéville,2000\n",
    "Thud!,Terry Pratchett,2005\n",
    "The Spellman Files,Lisa Lutz,2007\n",
    "Small Gods,Terry Pratchett,1992\n",
    "\"\"\"\n",
    "\n",
    "with open(\"books2.csv\", \"w\", encoding=\"utf-8\") as f:\n",
    "    f.write(csv_content)\n",
    "\n",
    "# Step 2: Create SQLite database and book table\n",
    "conn = sqlite3.connect(\"books.db\") # connection\n",
    "cur = conn.cursor() #cursor\n",
    "cur.execute(\"DROP TABLE IF EXISTS book\")\n",
    "cur.execute(\"\"\"\n",
    "    CREATE TABLE book (\n",
    "        title TEXT,\n",
    "        author TEXT,\n",
    "        year INTEGER\n",
    "    )\n",
    "\"\"\")\n",
    "\n",
    "# Step 3: Insert CSV data into the book table\n",
    "with open(\"books2.csv\", newline='', encoding='utf-8') as f:\n",
    "    reader = csv.DictReader(f)\n",
    "    for row in reader:\n",
    "        cur.execute(\"INSERT INTO book (title, author, year) VALUES (?, ?, ?)\",\n",
    "                    (row['title'], row['author'], int(row['year'])))\n",
    "conn.commit()\n",
    "conn.close()\n",
    "\n",
    "# Step 4: Use SQLAlchemy to print titles in alphabetical order\n",
    "engine = create_engine(\"sqlite:///books.db\")\n",
    "connection = engine.connect()\n",
    "metadata = MetaData()\n",
    "book_table = Table(\"book\", metadata, autoload_with=engine)\n",
    "\n",
    "stmt = select(book_table.c.title).order_by(book_table.c.title)\n",
    "results = connection.execute(stmt)\n",
    "\n",
    "# Print results\n",
    "for row in results:\n",
    "    print(row.title)"
   ]
  },
  {
   "cell_type": "code",
   "execution_count": null,
   "id": "0e7617b9-60c6-4fa8-8bf8-11071a521300",
   "metadata": {},
   "outputs": [],
   "source": []
  }
 ],
 "metadata": {
  "kernelspec": {
   "display_name": "Python [conda env:base] *",
   "language": "python",
   "name": "conda-base-py"
  },
  "language_info": {
   "codemirror_mode": {
    "name": "ipython",
    "version": 3
   },
   "file_extension": ".py",
   "mimetype": "text/x-python",
   "name": "python",
   "nbconvert_exporter": "python",
   "pygments_lexer": "ipython3",
   "version": "3.12.7"
  }
 },
 "nbformat": 4,
 "nbformat_minor": 5
}
