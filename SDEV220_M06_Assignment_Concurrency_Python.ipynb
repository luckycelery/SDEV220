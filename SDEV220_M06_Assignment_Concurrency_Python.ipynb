{
 "cells": [
  {
   "cell_type": "code",
   "execution_count": 1,
   "id": "24bd5ff9-ee37-4adc-9394-d252a3a63ca3",
   "metadata": {},
   "outputs": [],
   "source": [
    "\"\"\"13.1\"\"\"\n",
    "#import date class from datetime module\n",
    "from datetime import date\n",
    "\n",
    "#get today's date as a string\n",
    "today_string = date.today().isoformat() #uses ISO formatting\n",
    "\n",
    "#write to a file names today.txt\n",
    "with open(\"today.txt\", \"wt\") as file:\n",
    "    file.write(today_string)"
   ]
  },
  {
   "cell_type": "code",
   "execution_count": 2,
   "id": "bec5178d-b102-4f68-9c78-0da74fdb65ab",
   "metadata": {},
   "outputs": [
    {
     "name": "stdout",
     "output_type": "stream",
     "text": [
      "2025-07-15\n"
     ]
    }
   ],
   "source": [
    "\"\"\"13.2\"\"\"\n",
    "#open the today.txt file \n",
    "with open(\"today.txt\", \"rt\") as file: \n",
    "    #assign the today_string variable value or the contents of today.txt\n",
    "    today_string = file.read()\n",
    "\n",
    "print(today_string)\n"
   ]
  },
  {
   "cell_type": "code",
   "execution_count": 3,
   "id": "c416cd81-65c8-454a-a9c4-9a7ec9223ed5",
   "metadata": {},
   "outputs": [
    {
     "name": "stdout",
     "output_type": "stream",
     "text": [
      "2025-07-15\n"
     ]
    }
   ],
   "source": [
    "\"\"\"13.3\"\"\"\n",
    "# Import the parse function from the dateutil.parser module\n",
    "from dateutil.parser import parse\n",
    "\n",
    "# Parse the date string automatically\n",
    "parsed_date = parse(today_string).date()\n",
    "\n",
    "print(parsed_date)"
   ]
  },
  {
   "cell_type": "code",
   "execution_count": 4,
   "id": "7db04d6b-663f-4bbb-a9b1-8e8d35fa12b6",
   "metadata": {},
   "outputs": [
    {
     "name": "stdout",
     "output_type": "stream",
     "text": [
      "All processes have completed successfully.\n"
     ]
    }
   ],
   "source": [
    "from multiprocessing import Process  # Import Process for creating subprocesses\n",
    "from datetime import datetime        # For getting the current timestamp\n",
    "import time, random                  # For random delays and sleep\n",
    "\n",
    "def worker(i):\n",
    "    time.sleep(random.random())  # Pause for a random time between 0 and 1 seconds\n",
    "    # Print which process finished and the current timestamp\n",
    "    print(f\"Process {i} finished at {datetime.now()}\")\n",
    "\n",
    "if __name__ == '__main__':\n",
    "    processes = []  # List to keep track of all process objects\n",
    "\n",
    "    for i in range(3):  # Create and start 3 separate processes\n",
    "        p = Process(target=worker, args=(i + 1,))  # Pass unique process ID as argument\n",
    "        p.start()  # Start the process running the worker function\n",
    "        processes.append(p)  # Store process reference for later\n",
    "\n",
    "    for p in processes:  # Wait for all processes to finish\n",
    "        p.join()  # Blocks main program until this process completes\n",
    "\n",
    "    print(\"All processes have completed successfully.\")  # Confirmation message after all done\n"
   ]
  },
  {
   "cell_type": "markdown",
   "id": "4dff033d-a6f0-4957-a58e-8f5b66dae688",
   "metadata": {},
   "source": [
    "Output of 15.1: * I am unsure why JN is not wanting to generate the output correctly -  I threw this into VS code though, and this was the output that I got there.\n",
    "\n",
    "Process 1 finished at 2025-07-15 14:21:24.495292 \\n\n",
    "Process 3 finished at 2025-07-15 14:21:25.012997 \\n\n",
    "Process 2 finished at 2025-07-15 14:21:25.066523 \\n \n",
    "All processes have completed successfully. "
   ]
  },
  {
   "cell_type": "code",
   "execution_count": null,
   "id": "9fb9a4b7-c89f-45fb-aa19-f2729c594358",
   "metadata": {},
   "outputs": [],
   "source": []
  }
 ],
 "metadata": {
  "kernelspec": {
   "display_name": "Python [conda env:base] *",
   "language": "python",
   "name": "conda-base-py"
  },
  "language_info": {
   "codemirror_mode": {
    "name": "ipython",
    "version": 3
   },
   "file_extension": ".py",
   "mimetype": "text/x-python",
   "name": "python",
   "nbconvert_exporter": "python",
   "pygments_lexer": "ipython3",
   "version": "3.12.7"
  }
 },
 "nbformat": 4,
 "nbformat_minor": 5
}
